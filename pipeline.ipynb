{
 "cells": [
  {
   "cell_type": "markdown",
   "metadata": {},
   "source": [
    "Import Libraries"
   ]
  },
  {
   "cell_type": "code",
   "execution_count": 2,
   "metadata": {},
   "outputs": [],
   "source": [
    "import pandas as pd\n",
    "from sklearn import datasets\n",
    "from sklearn.impute import SimpleImputer\n",
    "from sklearn.metrics import r2_score\n",
    "from sklearn.model_selection import GridSearchCV, train_test_split \n",
    "from sklearn.pipeline import Pipeline\n",
    "from sklearn.preprocessing import StandardScaler, MinMaxScaler,PolynomialFeatures\n",
    "from sklearn.feature_selection import SelectKBest, SelectPercentile\n",
    "from sklearn.svm import SVR \n",
    "from sklearn.neural_network import MLPRegressor\n",
    "from sklearn.ensemble import GradientBoostingRegressor, RandomForestRegressor\n",
    "from sklearn.compose import TransformedTargetRegressor\n",
    "from sklearn.linear_model import LinearRegression\n",
    "from sklearn.linear_model import LogisticRegression\n",
    "from sklearn.decomposition import PCA\n",
    "from sklearn.metrics import mean_squared_error\n"
   ]
  },
  {
   "cell_type": "markdown",
   "metadata": {},
   "source": [
    "Load Data"
   ]
  },
  {
   "cell_type": "code",
   "execution_count": 3,
   "metadata": {},
   "outputs": [
    {
     "data": {
      "text/html": [
       "<div>\n",
       "<style scoped>\n",
       "    .dataframe tbody tr th:only-of-type {\n",
       "        vertical-align: middle;\n",
       "    }\n",
       "\n",
       "    .dataframe tbody tr th {\n",
       "        vertical-align: top;\n",
       "    }\n",
       "\n",
       "    .dataframe thead th {\n",
       "        text-align: right;\n",
       "    }\n",
       "</style>\n",
       "<table border=\"1\" class=\"dataframe\">\n",
       "  <thead>\n",
       "    <tr style=\"text-align: right;\">\n",
       "      <th></th>\n",
       "      <th>age</th>\n",
       "      <th>sex</th>\n",
       "      <th>bmi</th>\n",
       "      <th>bp</th>\n",
       "      <th>s1</th>\n",
       "      <th>s2</th>\n",
       "      <th>s3</th>\n",
       "      <th>s4</th>\n",
       "      <th>s5</th>\n",
       "      <th>s6</th>\n",
       "    </tr>\n",
       "  </thead>\n",
       "  <tbody>\n",
       "    <tr>\n",
       "      <th>0</th>\n",
       "      <td>0.038076</td>\n",
       "      <td>0.050680</td>\n",
       "      <td>0.061696</td>\n",
       "      <td>0.021872</td>\n",
       "      <td>-0.044223</td>\n",
       "      <td>-0.034821</td>\n",
       "      <td>-0.043401</td>\n",
       "      <td>-0.002592</td>\n",
       "      <td>0.019907</td>\n",
       "      <td>-0.017646</td>\n",
       "    </tr>\n",
       "    <tr>\n",
       "      <th>1</th>\n",
       "      <td>-0.001882</td>\n",
       "      <td>-0.044642</td>\n",
       "      <td>-0.051474</td>\n",
       "      <td>-0.026328</td>\n",
       "      <td>-0.008449</td>\n",
       "      <td>-0.019163</td>\n",
       "      <td>0.074412</td>\n",
       "      <td>-0.039493</td>\n",
       "      <td>-0.068332</td>\n",
       "      <td>-0.092204</td>\n",
       "    </tr>\n",
       "    <tr>\n",
       "      <th>2</th>\n",
       "      <td>0.085299</td>\n",
       "      <td>0.050680</td>\n",
       "      <td>0.044451</td>\n",
       "      <td>-0.005670</td>\n",
       "      <td>-0.045599</td>\n",
       "      <td>-0.034194</td>\n",
       "      <td>-0.032356</td>\n",
       "      <td>-0.002592</td>\n",
       "      <td>0.002861</td>\n",
       "      <td>-0.025930</td>\n",
       "    </tr>\n",
       "    <tr>\n",
       "      <th>3</th>\n",
       "      <td>-0.089063</td>\n",
       "      <td>-0.044642</td>\n",
       "      <td>-0.011595</td>\n",
       "      <td>-0.036656</td>\n",
       "      <td>0.012191</td>\n",
       "      <td>0.024991</td>\n",
       "      <td>-0.036038</td>\n",
       "      <td>0.034309</td>\n",
       "      <td>0.022688</td>\n",
       "      <td>-0.009362</td>\n",
       "    </tr>\n",
       "    <tr>\n",
       "      <th>4</th>\n",
       "      <td>0.005383</td>\n",
       "      <td>-0.044642</td>\n",
       "      <td>-0.036385</td>\n",
       "      <td>0.021872</td>\n",
       "      <td>0.003935</td>\n",
       "      <td>0.015596</td>\n",
       "      <td>0.008142</td>\n",
       "      <td>-0.002592</td>\n",
       "      <td>-0.031988</td>\n",
       "      <td>-0.046641</td>\n",
       "    </tr>\n",
       "    <tr>\n",
       "      <th>...</th>\n",
       "      <td>...</td>\n",
       "      <td>...</td>\n",
       "      <td>...</td>\n",
       "      <td>...</td>\n",
       "      <td>...</td>\n",
       "      <td>...</td>\n",
       "      <td>...</td>\n",
       "      <td>...</td>\n",
       "      <td>...</td>\n",
       "      <td>...</td>\n",
       "    </tr>\n",
       "    <tr>\n",
       "      <th>437</th>\n",
       "      <td>0.041708</td>\n",
       "      <td>0.050680</td>\n",
       "      <td>0.019662</td>\n",
       "      <td>0.059744</td>\n",
       "      <td>-0.005697</td>\n",
       "      <td>-0.002566</td>\n",
       "      <td>-0.028674</td>\n",
       "      <td>-0.002592</td>\n",
       "      <td>0.031193</td>\n",
       "      <td>0.007207</td>\n",
       "    </tr>\n",
       "    <tr>\n",
       "      <th>438</th>\n",
       "      <td>-0.005515</td>\n",
       "      <td>0.050680</td>\n",
       "      <td>-0.015906</td>\n",
       "      <td>-0.067642</td>\n",
       "      <td>0.049341</td>\n",
       "      <td>0.079165</td>\n",
       "      <td>-0.028674</td>\n",
       "      <td>0.034309</td>\n",
       "      <td>-0.018114</td>\n",
       "      <td>0.044485</td>\n",
       "    </tr>\n",
       "    <tr>\n",
       "      <th>439</th>\n",
       "      <td>0.041708</td>\n",
       "      <td>0.050680</td>\n",
       "      <td>-0.015906</td>\n",
       "      <td>0.017293</td>\n",
       "      <td>-0.037344</td>\n",
       "      <td>-0.013840</td>\n",
       "      <td>-0.024993</td>\n",
       "      <td>-0.011080</td>\n",
       "      <td>-0.046883</td>\n",
       "      <td>0.015491</td>\n",
       "    </tr>\n",
       "    <tr>\n",
       "      <th>440</th>\n",
       "      <td>-0.045472</td>\n",
       "      <td>-0.044642</td>\n",
       "      <td>0.039062</td>\n",
       "      <td>0.001215</td>\n",
       "      <td>0.016318</td>\n",
       "      <td>0.015283</td>\n",
       "      <td>-0.028674</td>\n",
       "      <td>0.026560</td>\n",
       "      <td>0.044529</td>\n",
       "      <td>-0.025930</td>\n",
       "    </tr>\n",
       "    <tr>\n",
       "      <th>441</th>\n",
       "      <td>-0.045472</td>\n",
       "      <td>-0.044642</td>\n",
       "      <td>-0.073030</td>\n",
       "      <td>-0.081413</td>\n",
       "      <td>0.083740</td>\n",
       "      <td>0.027809</td>\n",
       "      <td>0.173816</td>\n",
       "      <td>-0.039493</td>\n",
       "      <td>-0.004222</td>\n",
       "      <td>0.003064</td>\n",
       "    </tr>\n",
       "  </tbody>\n",
       "</table>\n",
       "<p>442 rows × 10 columns</p>\n",
       "</div>"
      ],
      "text/plain": [
       "          age       sex       bmi        bp        s1        s2        s3  \\\n",
       "0    0.038076  0.050680  0.061696  0.021872 -0.044223 -0.034821 -0.043401   \n",
       "1   -0.001882 -0.044642 -0.051474 -0.026328 -0.008449 -0.019163  0.074412   \n",
       "2    0.085299  0.050680  0.044451 -0.005670 -0.045599 -0.034194 -0.032356   \n",
       "3   -0.089063 -0.044642 -0.011595 -0.036656  0.012191  0.024991 -0.036038   \n",
       "4    0.005383 -0.044642 -0.036385  0.021872  0.003935  0.015596  0.008142   \n",
       "..        ...       ...       ...       ...       ...       ...       ...   \n",
       "437  0.041708  0.050680  0.019662  0.059744 -0.005697 -0.002566 -0.028674   \n",
       "438 -0.005515  0.050680 -0.015906 -0.067642  0.049341  0.079165 -0.028674   \n",
       "439  0.041708  0.050680 -0.015906  0.017293 -0.037344 -0.013840 -0.024993   \n",
       "440 -0.045472 -0.044642  0.039062  0.001215  0.016318  0.015283 -0.028674   \n",
       "441 -0.045472 -0.044642 -0.073030 -0.081413  0.083740  0.027809  0.173816   \n",
       "\n",
       "           s4        s5        s6  \n",
       "0   -0.002592  0.019907 -0.017646  \n",
       "1   -0.039493 -0.068332 -0.092204  \n",
       "2   -0.002592  0.002861 -0.025930  \n",
       "3    0.034309  0.022688 -0.009362  \n",
       "4   -0.002592 -0.031988 -0.046641  \n",
       "..        ...       ...       ...  \n",
       "437 -0.002592  0.031193  0.007207  \n",
       "438  0.034309 -0.018114  0.044485  \n",
       "439 -0.011080 -0.046883  0.015491  \n",
       "440  0.026560  0.044529 -0.025930  \n",
       "441 -0.039493 -0.004222  0.003064  \n",
       "\n",
       "[442 rows x 10 columns]"
      ]
     },
     "execution_count": 3,
     "metadata": {},
     "output_type": "execute_result"
    }
   ],
   "source": [
    "\n",
    "diabetes = datasets.load_diabetes(as_frame=True)\n",
    "\n",
    "y = diabetes.target\n",
    "X = diabetes.data\n",
    "X\n"
   ]
  },
  {
   "cell_type": "markdown",
   "metadata": {},
   "source": [
    "Split The Data For Train And Test"
   ]
  },
  {
   "cell_type": "code",
   "execution_count": 4,
   "metadata": {},
   "outputs": [
    {
     "data": {
      "text/plain": [
       "((397, 10),\n",
       " (45, 10),\n",
       " (397,),\n",
       " (45,),\n",
       " 135    272.0\n",
       " 358     90.0\n",
       " 194     86.0\n",
       " 399    232.0\n",
       " 405    281.0\n",
       " 151     88.0\n",
       " 142    235.0\n",
       " 0      151.0\n",
       " 169    152.0\n",
       " 90      98.0\n",
       " 27      85.0\n",
       " 71     270.0\n",
       " 79     113.0\n",
       " 341    263.0\n",
       " 51     225.0\n",
       " 69     178.0\n",
       " 425    152.0\n",
       " 240    275.0\n",
       " 245    125.0\n",
       " 369    167.0\n",
       " 35     102.0\n",
       " 7       63.0\n",
       " 334     72.0\n",
       " 196     72.0\n",
       " 66     150.0\n",
       " 29     283.0\n",
       " 269     87.0\n",
       " 119    200.0\n",
       " 118    179.0\n",
       " 170     47.0\n",
       " 44     259.0\n",
       " 304    253.0\n",
       " 30     129.0\n",
       " 395    258.0\n",
       " 382    132.0\n",
       " 125    161.0\n",
       " 191    178.0\n",
       " 231    154.0\n",
       " 61     144.0\n",
       " 12     179.0\n",
       " 105     53.0\n",
       " 407    140.0\n",
       " 361    182.0\n",
       " 18      97.0\n",
       " 152    292.0\n",
       " Name: target, dtype: float64)"
      ]
     },
     "execution_count": 4,
     "metadata": {},
     "output_type": "execute_result"
    }
   ],
   "source": [
    "\n",
    "from sklearn.model_selection import train_test_split \n",
    "\n",
    "X_train, X_val, y_train, y_val = train_test_split(X, y, test_size=0.1, random_state=13)\n",
    "X_train.shape, X_val.shape, y_train.shape, y_val.shape, y_val\n"
   ]
  },
  {
   "cell_type": "markdown",
   "metadata": {},
   "source": [
    "Building The Pipeline For A Model"
   ]
  },
  {
   "cell_type": "code",
   "execution_count": 4,
   "metadata": {},
   "outputs": [
    {
     "data": {
      "text/plain": [
       "(0.39480216429984816, 3151.402308666783)"
      ]
     },
     "execution_count": 4,
     "metadata": {},
     "output_type": "execute_result"
    }
   ],
   "source": [
    "GBR_pipeline = Pipeline([('scaler', StandardScaler()),(\"select\", SelectKBest(k=7)),\n",
    "('logr',TransformedTargetRegressor(regressor=GradientBoostingRegressor(max_depth=1), transformer=MinMaxScaler()))]) \n",
    "\n",
    "\n",
    "\n",
    "GBR_pipeline.fit(X_train, y_train)\n",
    "GBR_y_pred=GBR_pipeline.predict(X_val)\n",
    "\n",
    "\n",
    "rms = mean_squared_error(y_val, GBR_y_pred, squared=True) \n",
    "GBR_pipeline.score(X_val, y_val),rms"
   ]
  },
  {
   "cell_type": "code",
   "execution_count": 5,
   "metadata": {},
   "outputs": [
    {
     "data": {
      "text/plain": [
       "(0.39573618770862806, 3146.538637065293)"
      ]
     },
     "execution_count": 5,
     "metadata": {},
     "output_type": "execute_result"
    }
   ],
   "source": [
    "\n",
    "svr_pipeline=Pipeline(steps=[('standardscaler', StandardScaler()),('svr', SVR(C=20,epsilon=1))])\n",
    "svr_pipeline.fit(X_train, y_train)\n",
    "svr_pipeline_pred=svr_pipeline.predict(X_val)\n",
    "rms = mean_squared_error(y_val, svr_pipeline_pred, squared=True) \n",
    "svr_pipeline.score(X_val, y_val),rms"
   ]
  },
  {
   "cell_type": "markdown",
   "metadata": {},
   "source": [
    "Comparing The Models"
   ]
  },
  {
   "cell_type": "code",
   "execution_count": 6,
   "metadata": {},
   "outputs": [
    {
     "name": "stdout",
     "output_type": "stream",
     "text": [
      "logr test accuracy is: 0.39480216429984816\n",
      "svr test accuracy is: 0.39573618770862806\n"
     ]
    }
   ],
   "source": [
    "pipelines=[GBR_pipeline,svr_pipeline]\n",
    "pipe_dict={0:'logr',1:'svr'} \n",
    "for i,model in enumerate(pipelines):\n",
    "    print(\"{} test accuracy is: {}\".format(pipe_dict[i],model.score(X_val,y_val)))\n"
   ]
  },
  {
   "cell_type": "markdown",
   "metadata": {},
   "source": [
    "GradientBoostingRegressor için GridSearchCV kullanımı"
   ]
  },
  {
   "cell_type": "code",
   "execution_count": 9,
   "metadata": {},
   "outputs": [
    {
     "data": {
      "text/plain": [
       "GridSearchCV(estimator=GradientBoostingRegressor(),\n",
       "             param_grid={'criterion': ['friedman_mse'],\n",
       "                         'max_depth': [8, 9, 10, 11, 12],\n",
       "                         'max_features': ['auto'],\n",
       "                         'n_estimators': range(100, 500, 50)})"
      ]
     },
     "execution_count": 9,
     "metadata": {},
     "output_type": "execute_result"
    }
   ],
   "source": [
    "\n",
    "\n",
    "# Defining estimator \n",
    "model = GradientBoostingRegressor()\n",
    "\n",
    "# Defining param_grid\n",
    "params = {\n",
    "    'n_estimators'      : range(100,500,50),\n",
    "    'max_depth'         : [8, 9, 10, 11, 12],\n",
    "    'max_features': ['auto'],\n",
    "    'criterion' :['friedman_mse']\n",
    "}\n",
    "\n",
    "gsearch = GridSearchCV(estimator = model, param_grid = params)\n",
    "gsearch.fit(X_train, y_train)\n",
    "\n"
   ]
  },
  {
   "cell_type": "code",
   "execution_count": 10,
   "metadata": {},
   "outputs": [
    {
     "data": {
      "text/plain": [
       "0.2708488021575739"
      ]
     },
     "execution_count": 10,
     "metadata": {},
     "output_type": "execute_result"
    }
   ],
   "source": [
    "gsearch.score(X_val,y_val)"
   ]
  },
  {
   "cell_type": "code",
   "execution_count": 11,
   "metadata": {},
   "outputs": [
    {
     "data": {
      "text/plain": [
       "{'criterion': 'friedman_mse',\n",
       " 'max_depth': 8,\n",
       " 'max_features': 'auto',\n",
       " 'n_estimators': 450}"
      ]
     },
     "execution_count": 11,
     "metadata": {},
     "output_type": "execute_result"
    }
   ],
   "source": [
    "gsearch.best_params_"
   ]
  },
  {
   "cell_type": "markdown",
   "metadata": {},
   "source": [
    "Finding Best Model and Parameters with GridSearchCV"
   ]
  },
  {
   "cell_type": "markdown",
   "metadata": {},
   "source": [
    "Alternative 1"
   ]
  },
  {
   "cell_type": "code",
   "execution_count": 10,
   "metadata": {},
   "outputs": [],
   "source": [
    "pipeline = Pipeline([\n",
    "    # handle missing values\n",
    "    (\"imputer\", SimpleImputer()),\n",
    "    # transform the input\n",
    "    (\"scaler\", StandardScaler()),\n",
    "    # select best features\n",
    "    (\"select\", SelectKBest()),\n",
    "    # fit to transformed outputs\n",
    "    (\"model\", TransformedTargetRegressor())\n",
    "])"
   ]
  },
  {
   "cell_type": "code",
   "execution_count": 11,
   "metadata": {},
   "outputs": [],
   "source": [
    "pipeline_grid = GridSearchCV(pipeline, [\n",
    "    \n",
    "    \n",
    "    {\n",
    "        \"scaler\": [\"passthrough\", StandardScaler(), MinMaxScaler()],\n",
    "        \"select__k\": [4, 6, 8, 10],\n",
    "        \"model__regressor\": [LinearRegression()],\n",
    "        \"model__transformer\": [\"passthrough\", StandardScaler(), MinMaxScaler()]\n",
    "    },\n",
    "    {\n",
    "        \"scaler\": [\"passthrough\", StandardScaler(), MinMaxScaler()],\n",
    "        \"model__regressor\": [SVR()],\n",
    "        \"model__regressor__kernel\": [\"linear\", \"rbf\", \"sigmoid\"],\n",
    "        \"model__transformer\": [\"passthrough\", StandardScaler(), MinMaxScaler()]\n",
    "    },\n",
    "    {\n",
    "        \"scaler\": [MinMaxScaler((-1, 1))],\n",
    "        \"select__k\": [4, 6, 8, 10],\n",
    "        \"model__regressor\": [MLPRegressor()],\n",
    "        \"model__regressor__hidden_layer_sizes\": [(30, ), (10, 10, 10), (10, 20, 10)],\n",
    "        \"model__regressor__activation\": [\"relu\", \"tanh\"],\n",
    "        \"model__regressor__solver\": [\"adam\"],\n",
    "        \"model__regressor__max_iter\": [1000],\n",
    "        \"model__transformer\": [MinMaxScaler((-1, 1))]\n",
    "    },\n",
    "    {\n",
    "        \"scaler\": [StandardScaler(), MinMaxScaler()],\n",
    "        \"select__k\": [4, 6, 8, 10],\n",
    "        \"model__regressor\": [GradientBoostingRegressor()],\n",
    "        \"model__regressor__n_estimators\": [50, 100, 150, 200],\n",
    "        \"model__regressor__max_depth\": [3, 6, 9, 12],\n",
    "        \"model__transformer\": [StandardScaler(), MinMaxScaler()]\n",
    "    },\n",
    "], scoring=\"r2\")  # scoring = \"neg_mean_squared_error\"\n",
    "\n"
   ]
  },
  {
   "cell_type": "code",
   "execution_count": 12,
   "metadata": {},
   "outputs": [
    {
     "name": "stderr",
     "output_type": "stream",
     "text": [
      "/root/.local/share/virtualenvs/machine-learning-3gRytY6Y/lib/python3.9/site-packages/sklearn/model_selection/_validation.py:378: FitFailedWarning: \n",
      "105 fits failed out of a total of 1715.\n",
      "The score on these train-test partitions for these parameters will be set to nan.\n",
      "If these failures are not expected, you can try to debug them by setting error_score='raise'.\n",
      "\n",
      "Below are more details about the failures:\n",
      "--------------------------------------------------------------------------------\n",
      "105 fits failed with the following error:\n",
      "Traceback (most recent call last):\n",
      "  File \"/root/.local/share/virtualenvs/machine-learning-3gRytY6Y/lib/python3.9/site-packages/sklearn/model_selection/_validation.py\", line 686, in _fit_and_score\n",
      "    estimator.fit(X_train, y_train, **fit_params)\n",
      "  File \"/root/.local/share/virtualenvs/machine-learning-3gRytY6Y/lib/python3.9/site-packages/sklearn/pipeline.py\", line 382, in fit\n",
      "    self._final_estimator.fit(Xt, y, **fit_params_last_step)\n",
      "  File \"/root/.local/share/virtualenvs/machine-learning-3gRytY6Y/lib/python3.9/site-packages/sklearn/compose/_target.py\", line 235, in fit\n",
      "    self._fit_transformer(y_2d)\n",
      "  File \"/root/.local/share/virtualenvs/machine-learning-3gRytY6Y/lib/python3.9/site-packages/sklearn/compose/_target.py\", line 159, in _fit_transformer\n",
      "    self.transformer_ = clone(self.transformer)\n",
      "  File \"/root/.local/share/virtualenvs/machine-learning-3gRytY6Y/lib/python3.9/site-packages/sklearn/base.py\", line 77, in clone\n",
      "    raise TypeError(\n",
      "TypeError: Cannot clone object ''passthrough'' (type <class 'str'>): it does not seem to be a scikit-learn estimator as it does not implement a 'get_params' method.\n",
      "\n",
      "  warnings.warn(some_fits_failed_message, FitFailedWarning)\n",
      "/root/.local/share/virtualenvs/machine-learning-3gRytY6Y/lib/python3.9/site-packages/sklearn/model_selection/_search.py:953: UserWarning: One or more of the test scores are non-finite: [            nan             nan             nan             nan\n",
      "             nan             nan             nan             nan\n",
      "             nan             nan             nan             nan\n",
      "  4.53944654e-01  4.69680965e-01  4.76913271e-01  4.85111500e-01\n",
      "  4.53944654e-01  4.69680965e-01  4.76913271e-01  4.85111500e-01\n",
      "  4.53944654e-01  4.69680965e-01  4.76913271e-01  4.85111500e-01\n",
      "  4.53944654e-01  4.69680965e-01  4.76913271e-01  4.85111500e-01\n",
      "  4.53944654e-01  4.69680965e-01  4.76913271e-01  4.85111500e-01\n",
      "  4.53944654e-01  4.69680965e-01  4.76913271e-01  4.85111500e-01\n",
      "             nan             nan             nan  4.36215571e-01\n",
      "  4.71874693e-01  4.89117578e-01  4.81252547e-01  4.80242414e-01\n",
      "  4.81748975e-01             nan             nan             nan\n",
      "  4.67588677e-01  4.66094172e-01  4.81660789e-01  3.69010808e-01\n",
      "  3.67938957e-01  4.18418763e-01             nan             nan\n",
      "             nan -1.80370511e+01 -1.89307177e+01 -2.72424010e+01\n",
      " -3.46125965e+02 -3.62424765e+02 -4.35942065e+02  4.47333274e-01\n",
      "  4.72135194e-01  4.71844444e-01  4.85217041e-01  4.31946540e-01\n",
      "  4.42239803e-01  4.64559782e-01  4.49576974e-01  4.32193980e-01\n",
      "  4.57171416e-01  4.59478503e-01  4.59603030e-01  4.46013418e-01\n",
      "  4.67238873e-01  4.54963022e-01  4.83964200e-01  4.36385382e-01\n",
      "  4.64889177e-01  4.30896528e-01  4.50282073e-01  4.59098985e-01\n",
      "  4.77904213e-01  4.55783988e-01  4.94590468e-01  4.20139905e-01\n",
      "  4.37697817e-01  4.62586190e-01  4.67041924e-01  4.15466603e-01\n",
      "  4.32762195e-01  4.61788943e-01  4.64395851e-01  4.19470879e-01\n",
      "  4.36457230e-01  4.63430511e-01  4.65945445e-01  4.14454979e-01\n",
      "  4.34127156e-01  4.61548291e-01  4.63871436e-01  3.81584330e-01\n",
      "  4.15469875e-01  4.45047965e-01  4.40070465e-01  3.78920554e-01\n",
      "  4.11156804e-01  4.45124928e-01  4.37731129e-01  3.84931871e-01\n",
      "  4.13448157e-01  4.45533182e-01  4.41929241e-01  3.79635786e-01\n",
      "  4.15780644e-01  4.44991594e-01  4.39790083e-01  3.48295162e-01\n",
      "  3.84592531e-01  4.31785750e-01  4.24035913e-01  3.50275627e-01\n",
      "  3.81913662e-01  4.32976861e-01  4.24127498e-01  3.51622193e-01\n",
      "  3.83661775e-01  4.32702373e-01  4.22823600e-01  3.49711418e-01\n",
      "  3.78842653e-01  4.31395774e-01  4.25634822e-01  3.19281704e-01\n",
      "  3.65548800e-01  4.21520488e-01  4.04166213e-01  3.19125350e-01\n",
      "  3.60296165e-01  4.19347852e-01  3.97832942e-01  3.23156507e-01\n",
      "  3.65686824e-01  4.18991306e-01  3.97984087e-01  3.15468971e-01\n",
      "  3.64877406e-01  4.21391882e-01  3.99694933e-01  2.51056404e-01\n",
      "  3.16704085e-01  3.70392477e-01  3.70162189e-01  2.59673999e-01\n",
      "  3.13598308e-01  3.63254024e-01  3.65151311e-01  2.53106361e-01\n",
      "  3.20539618e-01  3.62279803e-01  3.74645645e-01  2.62895343e-01\n",
      "  3.16693979e-01  3.61965696e-01  3.76657230e-01  2.21660295e-01\n",
      "  3.02256376e-01  3.61290353e-01  3.69011632e-01  2.24980363e-01\n",
      "  2.94461653e-01  3.61529833e-01  3.60341259e-01  2.23838472e-01\n",
      "  2.96021217e-01  3.60233412e-01  3.64089622e-01  2.25116455e-01\n",
      "  3.00268693e-01  3.51219494e-01  3.63535548e-01  2.05698485e-01\n",
      "  2.89715033e-01  3.47403005e-01  3.63989497e-01  2.15585509e-01\n",
      "  2.90474594e-01  3.49977591e-01  3.65041628e-01  2.13254619e-01\n",
      "  2.92656407e-01  3.56017648e-01  3.62425050e-01  2.15036425e-01\n",
      "  2.91061658e-01  3.52781909e-01  3.65716522e-01  2.06910634e-01\n",
      "  2.89378572e-01  3.56800641e-01  3.64206516e-01  2.14934190e-01\n",
      "  2.86154277e-01  3.49364993e-01  3.62872926e-01  2.13396242e-01\n",
      "  2.90835402e-01  3.62273995e-01  3.67099527e-01  2.18304322e-01\n",
      "  2.83618836e-01  3.51380797e-01  3.62201194e-01  9.43508407e-02\n",
      "  2.31333362e-01  2.41234177e-01  2.60856832e-01  1.00944242e-01\n",
      "  2.21724168e-01  2.32484899e-01  2.60780165e-01  1.12820401e-01\n",
      "  2.25129905e-01  2.37251541e-01  2.63688227e-01  1.12582215e-01\n",
      "  2.17503722e-01  2.40724923e-01  2.61509446e-01  1.02689568e-01\n",
      "  2.34636269e-01  2.23830457e-01  2.60567081e-01  1.03375339e-01\n",
      "  2.25816005e-01  2.36915513e-01  2.56187976e-01  1.11778707e-01\n",
      "  2.24599033e-01  2.41225349e-01  2.61719409e-01  1.15825635e-01\n",
      "  2.23066158e-01  2.19455337e-01  2.63325193e-01  9.64272166e-02\n",
      "  2.32448061e-01  2.42870850e-01  2.56243520e-01  1.03325232e-01\n",
      "  2.25144366e-01  2.30349356e-01  2.49626924e-01  1.12636240e-01\n",
      "  2.29280810e-01  2.44314307e-01  2.70856318e-01  1.10037434e-01\n",
      "  2.13720210e-01  2.39874858e-01  2.68308607e-01  1.15761694e-01\n",
      "  2.23938395e-01  2.27878584e-01  2.50789747e-01  1.02667016e-01\n",
      "  2.22750192e-01  2.33230997e-01  2.58493477e-01  9.95130459e-02\n",
      "  2.30781627e-01  2.42853742e-01  2.59851874e-01  1.19558379e-01\n",
      "  2.17465877e-01  2.23758241e-01  2.58115841e-01 -8.17454212e-02\n",
      "  1.35950851e-02  1.25008357e-01  1.61272802e-01 -8.67918893e-02\n",
      " -1.23214713e-02  1.18063584e-01  1.80793187e-01 -8.26099444e-02\n",
      "  1.93708148e-03  1.31028336e-01  1.64521284e-01 -8.48964279e-02\n",
      " -1.25442469e-02  1.12020733e-01  1.73136501e-01 -7.28207191e-02\n",
      "  5.49842844e-03  1.20733699e-01  1.67369010e-01 -8.56737735e-02\n",
      " -9.57116061e-03  1.17840891e-01  1.70811144e-01 -7.17597208e-02\n",
      "  4.96663747e-03  1.25032684e-01  1.68517059e-01 -9.45300604e-02\n",
      " -1.45113233e-02  1.04952452e-01  1.60054338e-01 -7.85347721e-02\n",
      "  3.11998667e-03  1.15866947e-01  1.82989608e-01 -1.07764985e-01\n",
      " -8.19823308e-03  1.13229479e-01  1.69558577e-01 -8.22464058e-02\n",
      " -2.62272713e-04  1.23552576e-01  1.75386378e-01 -9.41121657e-02\n",
      " -1.30584425e-02  9.89327138e-02  1.66117267e-01 -7.55115653e-02\n",
      "  3.95459536e-03  1.28856203e-01  1.59666594e-01 -8.97625459e-02\n",
      " -8.37408161e-03  1.01452380e-01  1.69856574e-01 -8.08072254e-02\n",
      "  3.36921327e-03  1.18049254e-01  1.67321851e-01 -8.70536106e-02\n",
      " -7.53470031e-03  1.19726581e-01  1.72813377e-01]\n",
      "  warnings.warn(\n"
     ]
    },
    {
     "data": {
      "text/html": [
       "<style>#sk-container-id-1 {color: black;background-color: white;}#sk-container-id-1 pre{padding: 0;}#sk-container-id-1 div.sk-toggleable {background-color: white;}#sk-container-id-1 label.sk-toggleable__label {cursor: pointer;display: block;width: 100%;margin-bottom: 0;padding: 0.3em;box-sizing: border-box;text-align: center;}#sk-container-id-1 label.sk-toggleable__label-arrow:before {content: \"▸\";float: left;margin-right: 0.25em;color: #696969;}#sk-container-id-1 label.sk-toggleable__label-arrow:hover:before {color: black;}#sk-container-id-1 div.sk-estimator:hover label.sk-toggleable__label-arrow:before {color: black;}#sk-container-id-1 div.sk-toggleable__content {max-height: 0;max-width: 0;overflow: hidden;text-align: left;background-color: #f0f8ff;}#sk-container-id-1 div.sk-toggleable__content pre {margin: 0.2em;color: black;border-radius: 0.25em;background-color: #f0f8ff;}#sk-container-id-1 input.sk-toggleable__control:checked~div.sk-toggleable__content {max-height: 200px;max-width: 100%;overflow: auto;}#sk-container-id-1 input.sk-toggleable__control:checked~label.sk-toggleable__label-arrow:before {content: \"▾\";}#sk-container-id-1 div.sk-estimator input.sk-toggleable__control:checked~label.sk-toggleable__label {background-color: #d4ebff;}#sk-container-id-1 div.sk-label input.sk-toggleable__control:checked~label.sk-toggleable__label {background-color: #d4ebff;}#sk-container-id-1 input.sk-hidden--visually {border: 0;clip: rect(1px 1px 1px 1px);clip: rect(1px, 1px, 1px, 1px);height: 1px;margin: -1px;overflow: hidden;padding: 0;position: absolute;width: 1px;}#sk-container-id-1 div.sk-estimator {font-family: monospace;background-color: #f0f8ff;border: 1px dotted black;border-radius: 0.25em;box-sizing: border-box;margin-bottom: 0.5em;}#sk-container-id-1 div.sk-estimator:hover {background-color: #d4ebff;}#sk-container-id-1 div.sk-parallel-item::after {content: \"\";width: 100%;border-bottom: 1px solid gray;flex-grow: 1;}#sk-container-id-1 div.sk-label:hover label.sk-toggleable__label {background-color: #d4ebff;}#sk-container-id-1 div.sk-serial::before {content: \"\";position: absolute;border-left: 1px solid gray;box-sizing: border-box;top: 0;bottom: 0;left: 50%;z-index: 0;}#sk-container-id-1 div.sk-serial {display: flex;flex-direction: column;align-items: center;background-color: white;padding-right: 0.2em;padding-left: 0.2em;position: relative;}#sk-container-id-1 div.sk-item {position: relative;z-index: 1;}#sk-container-id-1 div.sk-parallel {display: flex;align-items: stretch;justify-content: center;background-color: white;position: relative;}#sk-container-id-1 div.sk-item::before, #sk-container-id-1 div.sk-parallel-item::before {content: \"\";position: absolute;border-left: 1px solid gray;box-sizing: border-box;top: 0;bottom: 0;left: 50%;z-index: -1;}#sk-container-id-1 div.sk-parallel-item {display: flex;flex-direction: column;z-index: 1;position: relative;background-color: white;}#sk-container-id-1 div.sk-parallel-item:first-child::after {align-self: flex-end;width: 50%;}#sk-container-id-1 div.sk-parallel-item:last-child::after {align-self: flex-start;width: 50%;}#sk-container-id-1 div.sk-parallel-item:only-child::after {width: 0;}#sk-container-id-1 div.sk-dashed-wrapped {border: 1px dashed gray;margin: 0 0.4em 0.5em 0.4em;box-sizing: border-box;padding-bottom: 0.4em;background-color: white;}#sk-container-id-1 div.sk-label label {font-family: monospace;font-weight: bold;display: inline-block;line-height: 1.2em;}#sk-container-id-1 div.sk-label-container {text-align: center;}#sk-container-id-1 div.sk-container {/* jupyter's `normalize.less` sets `[hidden] { display: none; }` but bootstrap.min.css set `[hidden] { display: none !important; }` so we also need the `!important` here to be able to override the default hidden behavior on the sphinx rendered scikit-learn.org. See: https://github.com/scikit-learn/scikit-learn/issues/21755 */display: inline-block !important;position: relative;}#sk-container-id-1 div.sk-text-repr-fallback {display: none;}</style><div id=\"sk-container-id-1\" class=\"sk-top-container\"><div class=\"sk-text-repr-fallback\"><pre>GridSearchCV(estimator=Pipeline(steps=[(&#x27;imputer&#x27;, SimpleImputer()),\n",
       "                                       (&#x27;scaler&#x27;, StandardScaler()),\n",
       "                                       (&#x27;select&#x27;, SelectKBest()),\n",
       "                                       (&#x27;model&#x27;,\n",
       "                                        TransformedTargetRegressor())]),\n",
       "             param_grid=[{&#x27;model__regressor&#x27;: [LinearRegression()],\n",
       "                          &#x27;model__transformer&#x27;: [&#x27;passthrough&#x27;,\n",
       "                                                 StandardScaler(),\n",
       "                                                 MinMaxScaler()],\n",
       "                          &#x27;scaler&#x27;: [&#x27;passthrough&#x27;, StandardScaler(),\n",
       "                                     MinMaxScaler()],\n",
       "                          &#x27;select__k...\n",
       "                                                                             1))],\n",
       "                          &#x27;scaler&#x27;: [MinMaxScaler(feature_range=(-1, 1))],\n",
       "                          &#x27;select__k&#x27;: [4, 6, 8, 10]},\n",
       "                         {&#x27;model__regressor&#x27;: [GradientBoostingRegressor()],\n",
       "                          &#x27;model__regressor__max_depth&#x27;: [3, 6, 9, 12],\n",
       "                          &#x27;model__regressor__n_estimators&#x27;: [50, 100, 150, 200],\n",
       "                          &#x27;model__transformer&#x27;: [StandardScaler(),\n",
       "                                                 MinMaxScaler()],\n",
       "                          &#x27;scaler&#x27;: [StandardScaler(), MinMaxScaler()],\n",
       "                          &#x27;select__k&#x27;: [4, 6, 8, 10]}],\n",
       "             scoring=&#x27;r2&#x27;)</pre><b>In a Jupyter environment, please rerun this cell to show the HTML representation or trust the notebook. <br />On GitHub, the HTML representation is unable to render, please try loading this page with nbviewer.org.</b></div><div class=\"sk-container\" hidden><div class=\"sk-item sk-dashed-wrapped\"><div class=\"sk-label-container\"><div class=\"sk-label sk-toggleable\"><input class=\"sk-toggleable__control sk-hidden--visually\" id=\"sk-estimator-id-1\" type=\"checkbox\" ><label for=\"sk-estimator-id-1\" class=\"sk-toggleable__label sk-toggleable__label-arrow\">GridSearchCV</label><div class=\"sk-toggleable__content\"><pre>GridSearchCV(estimator=Pipeline(steps=[(&#x27;imputer&#x27;, SimpleImputer()),\n",
       "                                       (&#x27;scaler&#x27;, StandardScaler()),\n",
       "                                       (&#x27;select&#x27;, SelectKBest()),\n",
       "                                       (&#x27;model&#x27;,\n",
       "                                        TransformedTargetRegressor())]),\n",
       "             param_grid=[{&#x27;model__regressor&#x27;: [LinearRegression()],\n",
       "                          &#x27;model__transformer&#x27;: [&#x27;passthrough&#x27;,\n",
       "                                                 StandardScaler(),\n",
       "                                                 MinMaxScaler()],\n",
       "                          &#x27;scaler&#x27;: [&#x27;passthrough&#x27;, StandardScaler(),\n",
       "                                     MinMaxScaler()],\n",
       "                          &#x27;select__k...\n",
       "                                                                             1))],\n",
       "                          &#x27;scaler&#x27;: [MinMaxScaler(feature_range=(-1, 1))],\n",
       "                          &#x27;select__k&#x27;: [4, 6, 8, 10]},\n",
       "                         {&#x27;model__regressor&#x27;: [GradientBoostingRegressor()],\n",
       "                          &#x27;model__regressor__max_depth&#x27;: [3, 6, 9, 12],\n",
       "                          &#x27;model__regressor__n_estimators&#x27;: [50, 100, 150, 200],\n",
       "                          &#x27;model__transformer&#x27;: [StandardScaler(),\n",
       "                                                 MinMaxScaler()],\n",
       "                          &#x27;scaler&#x27;: [StandardScaler(), MinMaxScaler()],\n",
       "                          &#x27;select__k&#x27;: [4, 6, 8, 10]}],\n",
       "             scoring=&#x27;r2&#x27;)</pre></div></div></div><div class=\"sk-parallel\"><div class=\"sk-parallel-item\"><div class=\"sk-item\"><div class=\"sk-label-container\"><div class=\"sk-label sk-toggleable\"><input class=\"sk-toggleable__control sk-hidden--visually\" id=\"sk-estimator-id-2\" type=\"checkbox\" ><label for=\"sk-estimator-id-2\" class=\"sk-toggleable__label sk-toggleable__label-arrow\">estimator: Pipeline</label><div class=\"sk-toggleable__content\"><pre>Pipeline(steps=[(&#x27;imputer&#x27;, SimpleImputer()), (&#x27;scaler&#x27;, StandardScaler()),\n",
       "                (&#x27;select&#x27;, SelectKBest()),\n",
       "                (&#x27;model&#x27;, TransformedTargetRegressor())])</pre></div></div></div><div class=\"sk-serial\"><div class=\"sk-item\"><div class=\"sk-serial\"><div class=\"sk-item\"><div class=\"sk-estimator sk-toggleable\"><input class=\"sk-toggleable__control sk-hidden--visually\" id=\"sk-estimator-id-3\" type=\"checkbox\" ><label for=\"sk-estimator-id-3\" class=\"sk-toggleable__label sk-toggleable__label-arrow\">SimpleImputer</label><div class=\"sk-toggleable__content\"><pre>SimpleImputer()</pre></div></div></div><div class=\"sk-item\"><div class=\"sk-estimator sk-toggleable\"><input class=\"sk-toggleable__control sk-hidden--visually\" id=\"sk-estimator-id-4\" type=\"checkbox\" ><label for=\"sk-estimator-id-4\" class=\"sk-toggleable__label sk-toggleable__label-arrow\">StandardScaler</label><div class=\"sk-toggleable__content\"><pre>StandardScaler()</pre></div></div></div><div class=\"sk-item\"><div class=\"sk-estimator sk-toggleable\"><input class=\"sk-toggleable__control sk-hidden--visually\" id=\"sk-estimator-id-5\" type=\"checkbox\" ><label for=\"sk-estimator-id-5\" class=\"sk-toggleable__label sk-toggleable__label-arrow\">SelectKBest</label><div class=\"sk-toggleable__content\"><pre>SelectKBest()</pre></div></div></div><div class=\"sk-item\"><div class=\"sk-estimator sk-toggleable\"><input class=\"sk-toggleable__control sk-hidden--visually\" id=\"sk-estimator-id-6\" type=\"checkbox\" ><label for=\"sk-estimator-id-6\" class=\"sk-toggleable__label sk-toggleable__label-arrow\">TransformedTargetRegressor</label><div class=\"sk-toggleable__content\"><pre>TransformedTargetRegressor()</pre></div></div></div></div></div></div></div></div></div></div></div></div>"
      ],
      "text/plain": [
       "GridSearchCV(estimator=Pipeline(steps=[('imputer', SimpleImputer()),\n",
       "                                       ('scaler', StandardScaler()),\n",
       "                                       ('select', SelectKBest()),\n",
       "                                       ('model',\n",
       "                                        TransformedTargetRegressor())]),\n",
       "             param_grid=[{'model__regressor': [LinearRegression()],\n",
       "                          'model__transformer': ['passthrough',\n",
       "                                                 StandardScaler(),\n",
       "                                                 MinMaxScaler()],\n",
       "                          'scaler': ['passthrough', StandardScaler(),\n",
       "                                     MinMaxScaler()],\n",
       "                          'select__k...\n",
       "                                                                             1))],\n",
       "                          'scaler': [MinMaxScaler(feature_range=(-1, 1))],\n",
       "                          'select__k': [4, 6, 8, 10]},\n",
       "                         {'model__regressor': [GradientBoostingRegressor()],\n",
       "                          'model__regressor__max_depth': [3, 6, 9, 12],\n",
       "                          'model__regressor__n_estimators': [50, 100, 150, 200],\n",
       "                          'model__transformer': [StandardScaler(),\n",
       "                                                 MinMaxScaler()],\n",
       "                          'scaler': [StandardScaler(), MinMaxScaler()],\n",
       "                          'select__k': [4, 6, 8, 10]}],\n",
       "             scoring='r2')"
      ]
     },
     "execution_count": 12,
     "metadata": {},
     "output_type": "execute_result"
    }
   ],
   "source": [
    "pipeline_grid.fit(X_train, y_train)\n"
   ]
  },
  {
   "cell_type": "code",
   "execution_count": 13,
   "metadata": {},
   "outputs": [
    {
     "data": {
      "text/html": [
       "<style>#sk-container-id-2 {color: black;background-color: white;}#sk-container-id-2 pre{padding: 0;}#sk-container-id-2 div.sk-toggleable {background-color: white;}#sk-container-id-2 label.sk-toggleable__label {cursor: pointer;display: block;width: 100%;margin-bottom: 0;padding: 0.3em;box-sizing: border-box;text-align: center;}#sk-container-id-2 label.sk-toggleable__label-arrow:before {content: \"▸\";float: left;margin-right: 0.25em;color: #696969;}#sk-container-id-2 label.sk-toggleable__label-arrow:hover:before {color: black;}#sk-container-id-2 div.sk-estimator:hover label.sk-toggleable__label-arrow:before {color: black;}#sk-container-id-2 div.sk-toggleable__content {max-height: 0;max-width: 0;overflow: hidden;text-align: left;background-color: #f0f8ff;}#sk-container-id-2 div.sk-toggleable__content pre {margin: 0.2em;color: black;border-radius: 0.25em;background-color: #f0f8ff;}#sk-container-id-2 input.sk-toggleable__control:checked~div.sk-toggleable__content {max-height: 200px;max-width: 100%;overflow: auto;}#sk-container-id-2 input.sk-toggleable__control:checked~label.sk-toggleable__label-arrow:before {content: \"▾\";}#sk-container-id-2 div.sk-estimator input.sk-toggleable__control:checked~label.sk-toggleable__label {background-color: #d4ebff;}#sk-container-id-2 div.sk-label input.sk-toggleable__control:checked~label.sk-toggleable__label {background-color: #d4ebff;}#sk-container-id-2 input.sk-hidden--visually {border: 0;clip: rect(1px 1px 1px 1px);clip: rect(1px, 1px, 1px, 1px);height: 1px;margin: -1px;overflow: hidden;padding: 0;position: absolute;width: 1px;}#sk-container-id-2 div.sk-estimator {font-family: monospace;background-color: #f0f8ff;border: 1px dotted black;border-radius: 0.25em;box-sizing: border-box;margin-bottom: 0.5em;}#sk-container-id-2 div.sk-estimator:hover {background-color: #d4ebff;}#sk-container-id-2 div.sk-parallel-item::after {content: \"\";width: 100%;border-bottom: 1px solid gray;flex-grow: 1;}#sk-container-id-2 div.sk-label:hover label.sk-toggleable__label {background-color: #d4ebff;}#sk-container-id-2 div.sk-serial::before {content: \"\";position: absolute;border-left: 1px solid gray;box-sizing: border-box;top: 0;bottom: 0;left: 50%;z-index: 0;}#sk-container-id-2 div.sk-serial {display: flex;flex-direction: column;align-items: center;background-color: white;padding-right: 0.2em;padding-left: 0.2em;position: relative;}#sk-container-id-2 div.sk-item {position: relative;z-index: 1;}#sk-container-id-2 div.sk-parallel {display: flex;align-items: stretch;justify-content: center;background-color: white;position: relative;}#sk-container-id-2 div.sk-item::before, #sk-container-id-2 div.sk-parallel-item::before {content: \"\";position: absolute;border-left: 1px solid gray;box-sizing: border-box;top: 0;bottom: 0;left: 50%;z-index: -1;}#sk-container-id-2 div.sk-parallel-item {display: flex;flex-direction: column;z-index: 1;position: relative;background-color: white;}#sk-container-id-2 div.sk-parallel-item:first-child::after {align-self: flex-end;width: 50%;}#sk-container-id-2 div.sk-parallel-item:last-child::after {align-self: flex-start;width: 50%;}#sk-container-id-2 div.sk-parallel-item:only-child::after {width: 0;}#sk-container-id-2 div.sk-dashed-wrapped {border: 1px dashed gray;margin: 0 0.4em 0.5em 0.4em;box-sizing: border-box;padding-bottom: 0.4em;background-color: white;}#sk-container-id-2 div.sk-label label {font-family: monospace;font-weight: bold;display: inline-block;line-height: 1.2em;}#sk-container-id-2 div.sk-label-container {text-align: center;}#sk-container-id-2 div.sk-container {/* jupyter's `normalize.less` sets `[hidden] { display: none; }` but bootstrap.min.css set `[hidden] { display: none !important; }` so we also need the `!important` here to be able to override the default hidden behavior on the sphinx rendered scikit-learn.org. See: https://github.com/scikit-learn/scikit-learn/issues/21755 */display: inline-block !important;position: relative;}#sk-container-id-2 div.sk-text-repr-fallback {display: none;}</style><div id=\"sk-container-id-2\" class=\"sk-top-container\"><div class=\"sk-text-repr-fallback\"><pre>Pipeline(steps=[(&#x27;imputer&#x27;, SimpleImputer()),\n",
       "                (&#x27;scaler&#x27;, MinMaxScaler(feature_range=(-1, 1))),\n",
       "                (&#x27;select&#x27;, SelectKBest()),\n",
       "                (&#x27;model&#x27;,\n",
       "                 TransformedTargetRegressor(regressor=MLPRegressor(activation=&#x27;tanh&#x27;,\n",
       "                                                                   hidden_layer_sizes=(10,\n",
       "                                                                                       20,\n",
       "                                                                                       10),\n",
       "                                                                   max_iter=1000),\n",
       "                                            transformer=MinMaxScaler(feature_range=(-1,\n",
       "                                                                                    1))))])</pre><b>In a Jupyter environment, please rerun this cell to show the HTML representation or trust the notebook. <br />On GitHub, the HTML representation is unable to render, please try loading this page with nbviewer.org.</b></div><div class=\"sk-container\" hidden><div class=\"sk-item sk-dashed-wrapped\"><div class=\"sk-label-container\"><div class=\"sk-label sk-toggleable\"><input class=\"sk-toggleable__control sk-hidden--visually\" id=\"sk-estimator-id-7\" type=\"checkbox\" ><label for=\"sk-estimator-id-7\" class=\"sk-toggleable__label sk-toggleable__label-arrow\">Pipeline</label><div class=\"sk-toggleable__content\"><pre>Pipeline(steps=[(&#x27;imputer&#x27;, SimpleImputer()),\n",
       "                (&#x27;scaler&#x27;, MinMaxScaler(feature_range=(-1, 1))),\n",
       "                (&#x27;select&#x27;, SelectKBest()),\n",
       "                (&#x27;model&#x27;,\n",
       "                 TransformedTargetRegressor(regressor=MLPRegressor(activation=&#x27;tanh&#x27;,\n",
       "                                                                   hidden_layer_sizes=(10,\n",
       "                                                                                       20,\n",
       "                                                                                       10),\n",
       "                                                                   max_iter=1000),\n",
       "                                            transformer=MinMaxScaler(feature_range=(-1,\n",
       "                                                                                    1))))])</pre></div></div></div><div class=\"sk-serial\"><div class=\"sk-item\"><div class=\"sk-estimator sk-toggleable\"><input class=\"sk-toggleable__control sk-hidden--visually\" id=\"sk-estimator-id-8\" type=\"checkbox\" ><label for=\"sk-estimator-id-8\" class=\"sk-toggleable__label sk-toggleable__label-arrow\">SimpleImputer</label><div class=\"sk-toggleable__content\"><pre>SimpleImputer()</pre></div></div></div><div class=\"sk-item\"><div class=\"sk-estimator sk-toggleable\"><input class=\"sk-toggleable__control sk-hidden--visually\" id=\"sk-estimator-id-9\" type=\"checkbox\" ><label for=\"sk-estimator-id-9\" class=\"sk-toggleable__label sk-toggleable__label-arrow\">MinMaxScaler</label><div class=\"sk-toggleable__content\"><pre>MinMaxScaler(feature_range=(-1, 1))</pre></div></div></div><div class=\"sk-item\"><div class=\"sk-estimator sk-toggleable\"><input class=\"sk-toggleable__control sk-hidden--visually\" id=\"sk-estimator-id-10\" type=\"checkbox\" ><label for=\"sk-estimator-id-10\" class=\"sk-toggleable__label sk-toggleable__label-arrow\">SelectKBest</label><div class=\"sk-toggleable__content\"><pre>SelectKBest()</pre></div></div></div><div class=\"sk-item sk-dashed-wrapped\"><div class=\"sk-label-container\"><div class=\"sk-label sk-toggleable\"><input class=\"sk-toggleable__control sk-hidden--visually\" id=\"sk-estimator-id-11\" type=\"checkbox\" ><label for=\"sk-estimator-id-11\" class=\"sk-toggleable__label sk-toggleable__label-arrow\">model: TransformedTargetRegressor</label><div class=\"sk-toggleable__content\"><pre>TransformedTargetRegressor(regressor=MLPRegressor(activation=&#x27;tanh&#x27;,\n",
       "                                                  hidden_layer_sizes=(10, 20,\n",
       "                                                                      10),\n",
       "                                                  max_iter=1000),\n",
       "                           transformer=MinMaxScaler(feature_range=(-1, 1)))</pre></div></div></div><div class=\"sk-parallel\"><div class=\"sk-parallel-item\"><div class=\"sk-item\"><div class=\"sk-label-container\"><div class=\"sk-label sk-toggleable\"><input class=\"sk-toggleable__control sk-hidden--visually\" id=\"sk-estimator-id-12\" type=\"checkbox\" ><label for=\"sk-estimator-id-12\" class=\"sk-toggleable__label sk-toggleable__label-arrow\">regressor: MLPRegressor</label><div class=\"sk-toggleable__content\"><pre>MLPRegressor(activation=&#x27;tanh&#x27;, hidden_layer_sizes=(10, 20, 10), max_iter=1000)</pre></div></div></div><div class=\"sk-serial\"><div class=\"sk-item\"><div class=\"sk-estimator sk-toggleable\"><input class=\"sk-toggleable__control sk-hidden--visually\" id=\"sk-estimator-id-13\" type=\"checkbox\" ><label for=\"sk-estimator-id-13\" class=\"sk-toggleable__label sk-toggleable__label-arrow\">MLPRegressor</label><div class=\"sk-toggleable__content\"><pre>MLPRegressor(activation=&#x27;tanh&#x27;, hidden_layer_sizes=(10, 20, 10), max_iter=1000)</pre></div></div></div></div></div></div><div class=\"sk-parallel-item\"><div class=\"sk-item\"><div class=\"sk-label-container\"><div class=\"sk-label sk-toggleable\"><input class=\"sk-toggleable__control sk-hidden--visually\" id=\"sk-estimator-id-14\" type=\"checkbox\" ><label for=\"sk-estimator-id-14\" class=\"sk-toggleable__label sk-toggleable__label-arrow\">transformer: MinMaxScaler</label><div class=\"sk-toggleable__content\"><pre>MinMaxScaler(feature_range=(-1, 1))</pre></div></div></div><div class=\"sk-serial\"><div class=\"sk-item\"><div class=\"sk-estimator sk-toggleable\"><input class=\"sk-toggleable__control sk-hidden--visually\" id=\"sk-estimator-id-15\" type=\"checkbox\" ><label for=\"sk-estimator-id-15\" class=\"sk-toggleable__label sk-toggleable__label-arrow\">MinMaxScaler</label><div class=\"sk-toggleable__content\"><pre>MinMaxScaler(feature_range=(-1, 1))</pre></div></div></div></div></div></div></div></div></div></div></div></div>"
      ],
      "text/plain": [
       "Pipeline(steps=[('imputer', SimpleImputer()),\n",
       "                ('scaler', MinMaxScaler(feature_range=(-1, 1))),\n",
       "                ('select', SelectKBest()),\n",
       "                ('model',\n",
       "                 TransformedTargetRegressor(regressor=MLPRegressor(activation='tanh',\n",
       "                                                                   hidden_layer_sizes=(10,\n",
       "                                                                                       20,\n",
       "                                                                                       10),\n",
       "                                                                   max_iter=1000),\n",
       "                                            transformer=MinMaxScaler(feature_range=(-1,\n",
       "                                                                                    1))))])"
      ]
     },
     "execution_count": 13,
     "metadata": {},
     "output_type": "execute_result"
    }
   ],
   "source": [
    "\n",
    "pipeline_grid.best_estimator_"
   ]
  },
  {
   "cell_type": "markdown",
   "metadata": {},
   "source": [
    "Alternative 2"
   ]
  },
  {
   "cell_type": "code",
   "execution_count": 14,
   "metadata": {},
   "outputs": [],
   "source": [
    "\n",
    "\n",
    "model_params={\n",
    "\n",
    "  'Gradient_Boosting':{\n",
    "\n",
    "    'model':GradientBoostingRegressor(),\n",
    "\n",
    "    'params':{\n",
    "               'n_estimators': [50, 100, 150, 200],\n",
    "               'max_depth': [3, 6, 9, 12]\n",
    "\n",
    "}\n",
    "},\n",
    "  'Logistic_Regression':{\n",
    "\n",
    "    'model':LogisticRegression(),\n",
    "\n",
    "    'params':{\n",
    "               'C': [1,5,10,20,40],\n",
    "               \n",
    "\n",
    "}\n",
    "},\n",
    "\n",
    "  'RandomForestRegression':{\n",
    "\n",
    "    'model':RandomForestRegressor(),\n",
    "\n",
    "    'params':{\n",
    "               'n_estimators': [50, 100, 150, 200],\n",
    "               'max_depth': [3, 6, 9, 12]\n",
    "\n",
    "}\n",
    "}\n",
    "}\n",
    "\n"
   ]
  },
  {
   "cell_type": "code",
   "execution_count": 15,
   "metadata": {},
   "outputs": [
    {
     "name": "stderr",
     "output_type": "stream",
     "text": [
      "/root/.local/share/virtualenvs/machine-learning-3gRytY6Y/lib/python3.9/site-packages/sklearn/model_selection/_split.py:676: UserWarning: The least populated class in y has only 1 members, which is less than n_splits=5.\n",
      "  warnings.warn(\n"
     ]
    },
    {
     "data": {
      "text/html": [
       "<div>\n",
       "<style scoped>\n",
       "    .dataframe tbody tr th:only-of-type {\n",
       "        vertical-align: middle;\n",
       "    }\n",
       "\n",
       "    .dataframe tbody tr th {\n",
       "        vertical-align: top;\n",
       "    }\n",
       "\n",
       "    .dataframe thead th {\n",
       "        text-align: right;\n",
       "    }\n",
       "</style>\n",
       "<table border=\"1\" class=\"dataframe\">\n",
       "  <thead>\n",
       "    <tr style=\"text-align: right;\">\n",
       "      <th></th>\n",
       "      <th>model</th>\n",
       "      <th>best_score</th>\n",
       "      <th>best_params</th>\n",
       "    </tr>\n",
       "  </thead>\n",
       "  <tbody>\n",
       "    <tr>\n",
       "      <th>0</th>\n",
       "      <td>Gradient_Boosting</td>\n",
       "      <td>0.464967</td>\n",
       "      <td>{'max_depth': 3, 'n_estimators': 50}</td>\n",
       "    </tr>\n",
       "    <tr>\n",
       "      <th>1</th>\n",
       "      <td>Logistic_Regression</td>\n",
       "      <td>0.012563</td>\n",
       "      <td>{'C': 1}</td>\n",
       "    </tr>\n",
       "    <tr>\n",
       "      <th>2</th>\n",
       "      <td>RandomForestRegression</td>\n",
       "      <td>0.461109</td>\n",
       "      <td>{'max_depth': 6, 'n_estimators': 150}</td>\n",
       "    </tr>\n",
       "  </tbody>\n",
       "</table>\n",
       "</div>"
      ],
      "text/plain": [
       "                    model  best_score                            best_params\n",
       "0       Gradient_Boosting    0.464967   {'max_depth': 3, 'n_estimators': 50}\n",
       "1     Logistic_Regression    0.012563                               {'C': 1}\n",
       "2  RandomForestRegression    0.461109  {'max_depth': 6, 'n_estimators': 150}"
      ]
     },
     "execution_count": 15,
     "metadata": {},
     "output_type": "execute_result"
    }
   ],
   "source": [
    "scores = []\n",
    "\n",
    "for model_name, mp in model_params.items():\n",
    "    gscv =  GridSearchCV(mp['model'], mp['params'])\n",
    "    gscv.fit(X_train, y_train)\n",
    "    scores.append({\n",
    "        'model': model_name,\n",
    "        'best_score': gscv.best_score_,\n",
    "        'best_params': gscv.best_params_\n",
    "    })\n",
    "    \n",
    "df = pd.DataFrame(scores,columns=['model','best_score','best_params'])\n",
    "df"
   ]
  },
  {
   "cell_type": "code",
   "execution_count": 16,
   "metadata": {},
   "outputs": [
    {
     "data": {
      "text/plain": [
       "{'max_depth': 6, 'n_estimators': 150}"
      ]
     },
     "execution_count": 16,
     "metadata": {},
     "output_type": "execute_result"
    }
   ],
   "source": [
    "gscv.best_params_"
   ]
  },
  {
   "cell_type": "markdown",
   "metadata": {},
   "source": [
    "Predict The New Data"
   ]
  },
  {
   "cell_type": "code",
   "execution_count": 17,
   "metadata": {},
   "outputs": [],
   "source": [
    "new_data = pd.DataFrame({ 'age':0.2 , 'sex': 0.050680, 'bmi':0.011595, 'bp':-0.036656, 's1':0.012191,\n",
    "       's2':-0.036038, 's3':0.034309, 's4':0.022692, 's5':0.627, 's6':0.0093}, index = [0])\n",
    "\n",
    "\n",
    "       "
   ]
  },
  {
   "cell_type": "code",
   "execution_count": 18,
   "metadata": {},
   "outputs": [
    {
     "data": {
      "text/plain": [
       "array([304.07163098])"
      ]
     },
     "execution_count": 18,
     "metadata": {},
     "output_type": "execute_result"
    }
   ],
   "source": [
    "result = pipeline_grid.predict(new_data)\n",
    "result"
   ]
  },
  {
   "cell_type": "markdown",
   "metadata": {},
   "source": [
    "Polynomial Regression with a Pipeline"
   ]
  },
  {
   "cell_type": "code",
   "execution_count": 19,
   "metadata": {},
   "outputs": [
    {
     "data": {
      "text/plain": [
       "3437.575184446335"
      ]
     },
     "execution_count": 19,
     "metadata": {},
     "output_type": "execute_result"
    }
   ],
   "source": [
    "\n",
    "poly_reg_model=Pipeline([('scaler2', StandardScaler()),('pca',PCA(n_components=2)),\n",
    "('poly',PolynomialFeatures(degree=7,include_bias=False)),('regr',LinearRegression())])\n",
    "\n",
    "poly_reg_model.fit(X_train,y_train)\n",
    "poly_reg_model_pred=poly_reg_model.predict(X_val)\n",
    "rms = mean_squared_error(y_val, poly_reg_model_pred, squared=True)\n",
    "rms\n"
   ]
  }
 ],
 "metadata": {
  "interpreter": {
   "hash": "ba3e4bad4521f9775cbcacb160d58d22c1b5e7149500279028fda0d920e50940"
  },
  "kernelspec": {
   "display_name": "Python 3.9.12 ('machine-learning-3gRytY6Y')",
   "language": "python",
   "name": "python3"
  },
  "language_info": {
   "codemirror_mode": {
    "name": "ipython",
    "version": 3
   },
   "file_extension": ".py",
   "mimetype": "text/x-python",
   "name": "python",
   "nbconvert_exporter": "python",
   "pygments_lexer": "ipython3",
   "version": "3.9.12"
  },
  "orig_nbformat": 4
 },
 "nbformat": 4,
 "nbformat_minor": 2
}
